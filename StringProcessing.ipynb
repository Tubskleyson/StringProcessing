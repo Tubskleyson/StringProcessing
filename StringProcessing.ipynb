{
 "nbformat": 4,
 "nbformat_minor": 0,
 "metadata": {
  "colab": {
   "name": "StringProcessing.ipynb",
   "provenance": [],
   "include_colab_link": true
  },
  "kernelspec": {
   "name": "f950790d-ca6c-407d-a127-b793c9924752",
   "language": "python",
   "display_name": "'Python Interactive'"
  },
  "pycharm": {
   "stem_cell": {
    "cell_type": "raw",
    "source": [],
    "metadata": {
     "collapsed": false
    }
   }
  }
 },
 "cells": [
  {
   "cell_type": "markdown",
   "metadata": {
    "id": "yXl4jSnjdebZ",
    "colab_type": "text"
   },
   "source": [
    "# Processamento de Cadeias de Caracteres"
   ]
  },
  {
   "cell_type": "markdown",
   "metadata": {
    "id": "kNAUARzMePvu",
    "colab_type": "text"
   },
   "source": [
    "## Tipos de Processamento a ser abordados:\n"
   ]
  },
  {
   "cell_type": "code",
   "metadata": {
    "id": "KBZL0vUJgGvY",
    "colab_type": "code",
    "colab": {
     "base_uri": "https://localhost:8080/",
     "height": 34
    },
    "outputId": "4b2c14e0-df33-4a70-d071-562ca1d3cbdd",
    "pycharm": {
     "is_executing": true,
     "name": "#%%\n"
    }
   },
   "source": [
    "print('hi')"
   ],
   "execution_count": null,
   "outputs": []
  }
 ]
}