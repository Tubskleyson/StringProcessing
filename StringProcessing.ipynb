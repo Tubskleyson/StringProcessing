{
  "nbformat": 4,
  "nbformat_minor": 0,
  "metadata": {
    "colab": {
      "name": "StringProcessing.ipynb",
      "provenance": [],
      "include_colab_link": true
    },
    "kernelspec": {
      "name": "python3",
      "display_name": "Python 3"
    }
  },
  "cells": [
    {
      "cell_type": "markdown",
      "metadata": {
        "id": "view-in-github",
        "colab_type": "text"
      },
      "source": [
        "<a href=\"https://colab.research.google.com/github/Tubskleyson/StringProcessing/blob/master/StringProcessing.ipynb\" target=\"_parent\"><img src=\"https://colab.research.google.com/assets/colab-badge.svg\" alt=\"Open In Colab\"/></a>"
      ]
    },
    {
      "cell_type": "markdown",
      "metadata": {
        "id": "yXl4jSnjdebZ",
        "colab_type": "text"
      },
      "source": [
        "# Processamento de Cadeias de Caracteres"
      ]
    },
    {
      "cell_type": "markdown",
      "metadata": {
        "id": "kNAUARzMePvu",
        "colab_type": "text"
      },
      "source": [
        "## Tipos de Processamento a ser abordados:\n"
      ]
    },
    {
      "cell_type": "code",
      "metadata": {
        "id": "KBZL0vUJgGvY",
        "colab_type": "code",
        "colab": {
          "base_uri": "https://localhost:8080/",
          "height": 34
        },
        "outputId": "4b2c14e0-df33-4a70-d071-562ca1d3cbdd"
      },
      "source": [
        "!git -C StringProcessing/ pull"
      ],
      "execution_count": 10,
      "outputs": [
        {
          "output_type": "stream",
          "text": [
            "Already up to date.\n"
          ],
          "name": "stdout"
        }
      ]
    }
  ]
}